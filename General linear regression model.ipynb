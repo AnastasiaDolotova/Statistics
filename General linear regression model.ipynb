{
  "nbformat": 4,
  "nbformat_minor": 0,
  "metadata": {
    "colab": {
      "provenance": []
    },
    "kernelspec": {
      "name": "python3",
      "display_name": "Python 3"
    },
    "language_info": {
      "name": "python"
    }
  },
  "cells": [
    {
      "cell_type": "markdown",
      "source": [
        "###Общая линейная регрессионная модель"
      ],
      "metadata": {
        "id": "ZbeUKIYl2jHo"
      }
    },
    {
      "cell_type": "code",
      "execution_count": null,
      "metadata": {
        "id": "DW4S-MHvuq8h"
      },
      "outputs": [],
      "source": [
        "import numpy as np"
      ]
    },
    {
      "cell_type": "code",
      "source": [
        "X = np.array((41, 50, 81, 104, 120, 139, 154, 180, 208, 241, 250, 269, 301))\n",
        "Y = np.array((4, 8, 10, 14, 16, 20, 19, 23, 26, 30, 31, 36, 37))"
      ],
      "metadata": {
        "id": "dGlXA72uwgG_"
      },
      "execution_count": null,
      "outputs": []
    },
    {
      "cell_type": "markdown",
      "source": [
        "$y_i = β_0 + β_1⋅x_i + ε_i$"
      ],
      "metadata": {
        "id": "M7vpkFhwxhwL"
      }
    },
    {
      "cell_type": "code",
      "source": [
        "n = len(X)\n",
        "m = 2 # amount of β_i"
      ],
      "metadata": {
        "id": "XDLSfTsf07cf"
      },
      "execution_count": null,
      "outputs": []
    },
    {
      "cell_type": "markdown",
      "source": [
        "$F =\n",
        " \\begin{pmatrix}\n",
        "  1 & X_1 \\\\\n",
        "  1 & X_2 \\\\\n",
        "  \\vdots  & \\vdots \\\\\n",
        "  1 & X_n\n",
        " \\end{pmatrix}$"
      ],
      "metadata": {
        "id": "iT6Epqez33FV"
      }
    },
    {
      "cell_type": "code",
      "source": [
        "FT_F = np.array(([len(X), sum(X)], [sum(X), sum(X ** 2)]))\n",
        "FT_F"
      ],
      "metadata": {
        "colab": {
          "base_uri": "https://localhost:8080/"
        },
        "id": "SwaprRbewrdn",
        "outputId": "fa4ff7c6-b991-402f-a235-d732721ca639"
      },
      "execution_count": null,
      "outputs": [
        {
          "output_type": "execute_result",
          "data": {
            "text/plain": [
              "array([[    13,   2138],\n",
              "       [  2138, 438202]])"
            ]
          },
          "metadata": {},
          "execution_count": 5
        }
      ]
    },
    {
      "cell_type": "code",
      "source": [
        "FT_F_inv = np.linalg.inv(FT_F)\n",
        "FT_F_inv"
      ],
      "metadata": {
        "colab": {
          "base_uri": "https://localhost:8080/"
        },
        "id": "UCSgX_www8Jp",
        "outputId": "d09fb3fa-2344-4716-cbb5-434fc0ffbb76"
      },
      "execution_count": null,
      "outputs": [
        {
          "output_type": "execute_result",
          "data": {
            "text/plain": [
              "array([[ 3.89311485e-01, -1.89946179e-03],\n",
              "       [-1.89946179e-03,  1.15495806e-05]])"
            ]
          },
          "metadata": {},
          "execution_count": 11
        }
      ]
    },
    {
      "cell_type": "code",
      "source": [
        "FT_Y = np.array((sum(Y), sum(X * Y)))\n",
        "FT_Y"
      ],
      "metadata": {
        "colab": {
          "base_uri": "https://localhost:8080/"
        },
        "id": "4gANNbqhx-1b",
        "outputId": "f7706ac5-d9e9-47b8-95e6-c84a968637c0"
      },
      "execution_count": null,
      "outputs": [
        {
          "output_type": "execute_result",
          "data": {
            "text/plain": [
              "array([  274, 55805])"
            ]
          },
          "metadata": {},
          "execution_count": 12
        }
      ]
    },
    {
      "cell_type": "markdown",
      "source": [
        "$\\hat {\\overline{β}} = (F^T⋅F)^{-1}⋅F^T⋅Y$"
      ],
      "metadata": {
        "id": "PxnT9VoZyira"
      }
    },
    {
      "cell_type": "code",
      "source": [
        "β = FT_F_inv @ FT_Y\n",
        "β"
      ],
      "metadata": {
        "colab": {
          "base_uri": "https://localhost:8080/"
        },
        "id": "oBAc-TTdyTUo",
        "outputId": "0cc18f9e-7b4f-4dc6-8ca7-f7a4c69c2b5f"
      },
      "execution_count": null,
      "outputs": [
        {
          "output_type": "execute_result",
          "data": {
            "text/plain": [
              "array([0.67188175, 0.12407181])"
            ]
          },
          "metadata": {},
          "execution_count": 13
        }
      ]
    },
    {
      "cell_type": "markdown",
      "source": [
        "$\\hat{\\delta}^2=\\frac{1}{n - m}\\ \\sum_{i=0}^{n-1} (y_i - \\hatβ_0 - \\hatβ_1⋅x_i)^2$"
      ],
      "metadata": {
        "id": "1VXGvy5lzsXK"
      }
    },
    {
      "cell_type": "code",
      "source": [
        "δ2 = 1 / (n - m) * sum((Y - β[0] - β[1] * X) ** 2)\n",
        "δ2"
      ],
      "metadata": {
        "colab": {
          "base_uri": "https://localhost:8080/"
        },
        "id": "jsWR5H-wyfnD",
        "outputId": "4983915c-26e8-4822-d558-4168d2a99aed"
      },
      "execution_count": null,
      "outputs": [
        {
          "output_type": "execute_result",
          "data": {
            "text/plain": [
              "1.4615316585310791"
            ]
          },
          "metadata": {},
          "execution_count": 16
        }
      ]
    },
    {
      "cell_type": "markdown",
      "source": [
        "$Σ_{\\hat {\\overline{β}}}=(F^T⋅F)^{-1}⋅\\hat{\\delta}^2$"
      ],
      "metadata": {
        "id": "w1Xbwgkm1aN6"
      }
    },
    {
      "cell_type": "markdown",
      "source": [
        "$Σ_{\\hat {\\overline{β}}}=\n",
        " \\begin{pmatrix}\n",
        "  D{\\hat{\\beta}_0} & cov(\\hat{\\beta}_0, \\hat{\\beta}_1)\\\\\n",
        "  cov(\\hat{\\beta}_0, \\hat{\\beta}_1) & D{\\hat{\\beta}_1}\n",
        " \\end{pmatrix}$"
      ],
      "metadata": {
        "id": "xSDP0aox16hW"
      }
    },
    {
      "cell_type": "code",
      "source": [
        "Σ = FT_F_inv * δ2\n",
        "Σ"
      ],
      "metadata": {
        "colab": {
          "base_uri": "https://localhost:8080/"
        },
        "id": "yqAmg3O51Ozb",
        "outputId": "5755dd10-d27f-4d9e-eb04-5bebdd9b7aa7"
      },
      "execution_count": null,
      "outputs": [
        {
          "output_type": "execute_result",
          "data": {
            "text/plain": [
              "array([[ 5.68991060e-01, -2.77612354e-03],\n",
              "       [-2.77612354e-03,  1.68800776e-05]])"
            ]
          },
          "metadata": {},
          "execution_count": 17
        }
      ]
    },
    {
      "cell_type": "code",
      "source": [],
      "metadata": {
        "id": "x0v5FGpm11TV"
      },
      "execution_count": null,
      "outputs": []
    }
  ]
}